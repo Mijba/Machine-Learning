{
  "nbformat": 4,
  "nbformat_minor": 0,
  "metadata": {
    "colab": {
      "name": "Exp10_kMeans.ipynb",
      "provenance": [],
      "collapsed_sections": []
    },
    "kernelspec": {
      "name": "python3",
      "display_name": "Python 3"
    },
    "language_info": {
      "name": "python"
    }
  },
  "cells": [
    {
      "cell_type": "code",
      "execution_count": null,
      "metadata": {
        "id": "NND27oUgWMCH"
      },
      "outputs": [],
      "source": [
        "#import libraries\n",
        "import pandas as pd\n",
        "import numpy as np \n",
        "import matplotlib.pyplot as plt\n",
        "from sklearn.cluster import KMeans"
      ]
    },
    {
      "cell_type": "code",
      "source": [
        "#generating dataset using numpy\n",
        "x1=10*np.random.rand(100,2)"
      ],
      "metadata": {
        "id": "S5PG7EG4WeWC"
      },
      "execution_count": null,
      "outputs": []
    },
    {
      "cell_type": "code",
      "source": [
        "#training the algorithm\n",
        "#clustering are 3\n",
        "kmean=KMeans(n_clusters=3)\n",
        "kmean.fit(x1)"
      ],
      "metadata": {
        "colab": {
          "base_uri": "https://localhost:8080/"
        },
        "id": "aMMgH4nTWlh5",
        "outputId": "a3e285f4-ee45-481b-dbb7-ce748204078d"
      },
      "execution_count": null,
      "outputs": [
        {
          "output_type": "execute_result",
          "data": {
            "text/plain": [
              "KMeans(n_clusters=3)"
            ]
          },
          "metadata": {},
          "execution_count": 3
        }
      ]
    },
    {
      "cell_type": "code",
      "source": [
        "#clustering centers\n",
        "kmean.cluster_centers_"
      ],
      "metadata": {
        "colab": {
          "base_uri": "https://localhost:8080/"
        },
        "id": "LOYOq62MWw5c",
        "outputId": "1f3af5d6-58e1-4acb-9ef3-bcf15aa10c89"
      },
      "execution_count": null,
      "outputs": [
        {
          "output_type": "execute_result",
          "data": {
            "text/plain": [
              "array([[8.29039642, 4.88300685],\n",
              "       [2.63299585, 8.06065156],\n",
              "       [3.55120569, 2.35006919]])"
            ]
          },
          "metadata": {},
          "execution_count": 4
        }
      ]
    },
    {
      "cell_type": "code",
      "source": [
        "kmean.labels_"
      ],
      "metadata": {
        "colab": {
          "base_uri": "https://localhost:8080/"
        },
        "id": "QM2ksblMW581",
        "outputId": "2c061f9e-d7b1-4bcc-ee36-04409d4b8030"
      },
      "execution_count": null,
      "outputs": [
        {
          "output_type": "execute_result",
          "data": {
            "text/plain": [
              "array([0, 2, 2, 1, 0, 1, 2, 0, 2, 1, 1, 0, 2, 0, 0, 0, 1, 2, 0, 1, 0, 1,\n",
              "       1, 1, 1, 2, 0, 0, 1, 0, 2, 2, 0, 1, 2, 2, 0, 0, 0, 2, 0, 1, 0, 0,\n",
              "       1, 0, 0, 2, 2, 0, 2, 2, 2, 1, 1, 1, 0, 2, 1, 2, 0, 1, 0, 0, 1, 1,\n",
              "       1, 0, 1, 1, 2, 2, 2, 2, 0, 1, 2, 2, 2, 1, 1, 1, 2, 1, 1, 2, 1, 0,\n",
              "       1, 1, 0, 0, 0, 0, 2, 2, 0, 1, 2, 0], dtype=int32)"
            ]
          },
          "metadata": {},
          "execution_count": 5
        }
      ]
    },
    {
      "cell_type": "code",
      "source": [
        "wcss = []\n",
        "for i in range(1,20):\n",
        " kmeans = KMeans(n_clusters=i,init='k-means++',max_iter=300,n_init=10,random_state=0)\n",
        " kmeans.fit(x1)\n",
        " wcss.append(kmeans.inertia_)\n",
        "print(\"Cluster\", i, \"Inertia\", kmeans.inertia_)\n",
        "plt.plot(range(1,20),wcss)\n",
        "plt.title(\"The Elbow Curve\")\n",
        "plt.xlabel(\"Number of Clusters\")\n",
        "plt.ylabel(\"WCSS\") ##WCSS stands for total within-cluster sum of square\n",
        "plt.show()"
      ],
      "metadata": {
        "id": "clvVTgp_XBrh",
        "outputId": "06bfcb79-0431-4612-f2f7-2b6f0c071feb",
        "colab": {
          "base_uri": "https://localhost:8080/",
          "height": 275
        }
      },
      "execution_count": null,
      "outputs": [
        {
          "output_type": "stream",
          "name": "stdout",
          "text": [
            "Cluster 19 Inertia 59.51892794183984\n"
          ]
        },
        {
          "output_type": "display_data",
          "data": {
            "image/png": "[encoded data removed]",
            "text/plain": [
              "<Figure size 432x288 with 1 Axes>"
            ]
          },
          "metadata": {
            "needs_background": "light"
          }
        }
      ]
    }
  ]
}